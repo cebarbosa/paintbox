{
 "cells": [
  {
   "cell_type": "code",
   "execution_count": null,
   "metadata": {},
   "outputs": [],
   "source": [
    "import os\n",
    "import numpy as np\n",
    "import astropy.units as u\n",
    "from astropy.modeling import models\n",
    "from astropy.io import fits\n",
    "from astropy.table import Table, vstack\n",
    "import matplotlib.pyplot as plt\n",
    "import paintbox as pb\n",
    "from paintbox import utils\n",
    "from ppxf import ppxf_util, miles_util"
   ]
  },
  {
   "cell_type": "markdown",
   "metadata": {},
   "source": [
    "### Non-parametric models \n",
    "\n",
    "The SED of galaxies can be modeled as a superposition of templates, i.e., given a set of SED models *A*, an observed spectrum (or some parts of it) can described as an weighted sum of models in *A*. In this case, the problem of modeling the SED becomes to find an optimal set of weights. This method have been extensively explored by some tools such as [`ppxf`](https://pypi.org/project/ppxf/) and [`Starlight`](http://www.starlight.ufsc.br). For instance, in the modeling of emission lines, `ppxf` provides a simple tool to produce templates of the most important optical lines, as shown below."
   ]
  },
  {
   "cell_type": "code",
   "execution_count": 1,
   "metadata": {},
   "outputs": [
    {
     "name": "stdout",
     "output_type": "stream",
     "text": [
      "Emission lines included in gas templates:\n",
      "['Hdelta' 'Hgamma' 'Hbeta' 'Halpha' '[SII]6731_d1' '[SII]6731_d2'\n",
      " '[OIII]5007_d' '[OI]6300_d' '[NII]6583_d']\n"
     ]
    },
    {
     "data": {
      "image/png": "[encoded data removed]",
      "text/plain": [
       "<Figure size 576x432 with 1 Axes>"
      ]
     },
     "metadata": {
      "needs_background": "light"
     },
     "output_type": "display_data"
    }
   ],
   "source": [
    "# Generating an wavelength array spaced logarithmically with\n",
    "# fixed velocity scale\n",
    "wrange = [4000, 7000]\n",
    "velscale = 30 # Velocity shift between pixels\n",
    "FWHM = 2.8 # Resolution of the observation\n",
    "\n",
    "# Simple tool to get velocity dispersion with fixed velscale within a given range\n",
    "wave = utils.disp2vel(wrange, velscale) \n",
    "logwave = np.log(wave)\n",
    "\n",
    "gas_templates, gas_names, line_wave = ppxf_util.emission_lines(\n",
    "        logwave, [wave[0], wave[-1]], FWHM,\n",
    "        tie_balmer=False, limit_doublets=True)\n",
    "gas_names = [_.replace(\"_\", \"\") for _ in gas_names] # Removing underlines from names\n",
    "fig = plt.figure(figsize=(8, 6))\n",
    "for i in range(len(gas_names)):\n",
    "    plt.plot(wave, gas_templates[:,i], label=gas_names[i])\n",
    "plt.legend(ncol=5, prop={\"size\": 8})\n",
    "plt.xlabel(\"$\\lambda$ (Angstrom)\")\n",
    "plt.ylabel(\"Flux\")\n",
    "plt.show()"
   ]
  },
  {
   "cell_type": "markdown",
   "metadata": {},
   "source": [
    "In `paintbox`, we can also use templates as those shown above using the `NonParametricModel` class. For instance, to use the emission line templates shown above, we just need to do the following: "
   ]
  },
  {
   "cell_type": "code",
   "execution_count": 5,
   "metadata": {},
   "outputs": [
    {
     "name": "stdout",
     "output_type": "stream",
     "text": [
      "Name of the templates:  Hdelta, Hgamma, Hbeta, Halpha, [SII]6731d1, [SII]6731d2, [OIII]5007d, [OI]6300d, [NII]6583d\n"
     ]
    }
   ],
   "source": [
    "# Creating paintbox component\n",
    "emission = pb.NonParametricModel(wave, gas_templates.T, gas_names)# Notice the transpose here!\n",
    "print(\"Name of the templates: \", \", \".join(emission.parnames))"
   ]
  },
  {
   "cell_type": "markdown",
   "metadata": {},
   "source": [
    "Now, the `emission` object above can be called to produce a linear combination of all templates by providing a set of weights, given in the order indicated by the `parnames`parameter, as indicated in the example below."
   ]
  },
  {
   "cell_type": "code",
   "execution_count": null,
   "metadata": {},
   "outputs": [],
   "source": [
    "# Generating some random flux for each emission line\n",
    "theta = np.random.random(len(gas_names))\n",
    "print(\"Random fluxes of emission lines: \")\n",
    "print(*zip(emission.parnames, theta))\n",
    "fig = plt.figure(figsize=(8, 6))\n",
    "plt.plot(wave, emission(theta))\n",
    "plt.xlabel(\"$\\lambda$ (Angstrom)\")\n",
    "plt.ylabel(\"Flux\")\n",
    "plt.show()"
   ]
  },
  {
   "cell_type": "markdown",
   "metadata": {},
   "source": [
    "In practice, this class can be used in different ways, including emission line modeling, sky and telluric removal / correction, and also with stellar population models. Moreover, `NonParametricModel` compononents can be combined with any SED components in `paintbox`, and they can be modified later to include, e.g., kinematics and dust attenuation. "
   ]
  }
 ],
 "metadata": {
  "kernelspec": {
   "display_name": "Python 3",
   "language": "python",
   "name": "python3"
  },
  "language_info": {
   "codemirror_mode": {
    "name": "ipython",
    "version": 3
   },
   "file_extension": ".py",
   "mimetype": "text/x-python",
   "name": "python",
   "nbconvert_exporter": "python",
   "pygments_lexer": "ipython3",
   "version": "3.7.0"
  }
 },
 "nbformat": 4,
 "nbformat_minor": 4
}
