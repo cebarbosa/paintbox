{
 "cells": [
  {
   "cell_type": "code",
   "execution_count": 1,
   "metadata": {},
   "outputs": [],
   "source": [
    "import os\n",
    "import numpy as np\n",
    "import astropy.units as u\n",
    "from astropy.modeling import models\n",
    "from astropy.io import fits\n",
    "from astropy.table import Table, vstack\n",
    "import matplotlib.pyplot as plt\n",
    "import paintbox as pb\n",
    "from paintbox import utils\n",
    "from ppxf import ppxf_util, miles_util"
   ]
  },
  {
   "cell_type": "markdown",
   "metadata": {},
   "source": [
    "### Parametric models\n",
    "\n",
    "In several applications, we are interested in the determination of the parameters involved in the modeling of the SED, for instance, the age or the metallicity of a stellar population model that better describes some observations. The `NonParametricModel`class above can be used for that purpose, of course, but the problem of determining the correct weights becomes more difficult as we include more templates. One alternative is thus tointerpolate the models such that we can have a SED description for any particular combination of parameters within a convex hull defined by the limits of the model. In this case, we can use the `paintbox.ParametricModel` class. In the example below, we use a set of theoretical stellar models from [Coelho (2014)](https://ui.adsabs.harvard.edu/abs/2014MNRAS.440.1027C/abstract), which you can download [here](http://specmodels.iag.usp.br/) to demonstrate how to use this class."
   ]
  },
  {
   "cell_type": "code",
   "execution_count": 2,
   "metadata": {},
   "outputs": [
    {
     "ename": "FileNotFoundError",
     "evalue": "[Errno 2] No such file or directory: 's_coelho14_sed'",
     "output_type": "error",
     "traceback": [
      "\u001b[0;31m---------------------------------------------------------------------------\u001b[0m",
      "\u001b[0;31mFileNotFoundError\u001b[0m                         Traceback (most recent call last)",
      "\u001b[0;32m<ipython-input-2-3eb4b5b4e13c>\u001b[0m in \u001b[0;36m<module>\u001b[0;34m\u001b[0m\n\u001b[1;32m      1\u001b[0m \u001b[0mmodels_dir\u001b[0m \u001b[0;34m=\u001b[0m \u001b[0;34m\"s_coelho14_sed\"\u001b[0m\u001b[0;34m\u001b[0m\u001b[0m\n\u001b[1;32m      2\u001b[0m \u001b[0;31m# Getting parameters from file names\u001b[0m\u001b[0;34m\u001b[0m\u001b[0;34m\u001b[0m\u001b[0m\n\u001b[0;32m----> 3\u001b[0;31m \u001b[0mmodel_names\u001b[0m \u001b[0;34m=\u001b[0m \u001b[0mos\u001b[0m\u001b[0;34m.\u001b[0m\u001b[0mlistdir\u001b[0m\u001b[0;34m(\u001b[0m\u001b[0mmodels_dir\u001b[0m\u001b[0;34m)\u001b[0m\u001b[0;34m\u001b[0m\u001b[0m\n\u001b[0m\u001b[1;32m      4\u001b[0m \u001b[0;31m# Get dispersion from the header of a file\u001b[0m\u001b[0;34m\u001b[0m\u001b[0;34m\u001b[0m\u001b[0m\n\u001b[1;32m      5\u001b[0m \u001b[0mfilename\u001b[0m \u001b[0;34m=\u001b[0m \u001b[0mos\u001b[0m\u001b[0;34m.\u001b[0m\u001b[0mpath\u001b[0m\u001b[0;34m.\u001b[0m\u001b[0mjoin\u001b[0m\u001b[0;34m(\u001b[0m\u001b[0mmodels_dir\u001b[0m\u001b[0;34m,\u001b[0m \u001b[0mmodel_names\u001b[0m\u001b[0;34m[\u001b[0m\u001b[0;36m0\u001b[0m\u001b[0;34m]\u001b[0m\u001b[0;34m)\u001b[0m\u001b[0;34m\u001b[0m\u001b[0m\n",
      "\u001b[0;31mFileNotFoundError\u001b[0m: [Errno 2] No such file or directory: 's_coelho14_sed'"
     ]
    }
   ],
   "source": [
    "models_dir = \"s_coelho14_sed\"\n",
    "# Getting parameters from file names\n",
    "model_names = os.listdir(models_dir)\n",
    "# Get dispersion from the header of a file\n",
    "filename = os.path.join(models_dir, model_names[0])\n",
    "crval1 = fits.getval(filename, \"CRVAL1\")\n",
    "cdelt1 = fits.getval(filename, \"CDELT1\")\n",
    "n = fits.getval(filename, \"NAXIS1\")\n",
    "pix = np.arange(n) + 1\n",
    "wave = np.power(10, crval1 + cdelt1 * pix) * u.micrometer\n",
    "# Create an table with parameters based on the file names\n",
    "table = []\n",
    "# Also store all templates into a 2D array\n",
    "templates = np.zeros((len(model_names), n))\n",
    "for i, filename in enumerate(model_names):\n",
    "    T = float(filename.split(\"_\")[0][1:])\n",
    "    g = float(filename.split(\"_\")[1][1:])\n",
    "    Z = 0.1 * float(filename.split(\"_\")[2][:3].replace(\n",
    "        \"m\", \"-\").replace(\"p\", \"+\"))\n",
    "    alpha = 0.1 * float(filename.split(\"_\")[2][3:].replace(\n",
    "        \"m\", \"-\").replace(\"p\", \"+\"))\n",
    "    a = np.array([T, g, Z, alpha])\n",
    "    t = Table(a, names=[\"T\", \"g\", \"Z\", \"alpha\"])\n",
    "    table.append(t)\n",
    "    templates[i] = fits.getdata(os.path.join(models_dir, filename))\n",
    "table = vstack(table) # Join all tables in one\n",
    "# Use paintbox to interpolate models.\n",
    "star = pb.ParametricModel(wave, table, templates) # Notice the transpose here if you use ppxf templates!\n",
    "print(\"Parameters: \", star.parnames)\n",
    "print(\"Limits for the parameter: \", star.limits)\n",
    "theta = np.array([6500, 3., -0.1, 0.1])\n",
    "fig = plt.figure(figsize=(8, 6))\n",
    "plt.semilogx(wave, star(theta))\n",
    "plt.xlabel(\"$\\lambda$ ($\\mu$m)\")\n",
    "plt.ylabel(\"Flux\")\n",
    "plt.show()"
   ]
  },
  {
   "cell_type": "markdown",
   "metadata": {},
   "source": [
    "The above code illustrates how to *prepare* the data for `paintbox`ingestion for a particular case, but we notice that the `ParametricModel` class require only three arguments, the wevelength array (one for each spectral element), an `astropy.table.Table` object that contains the parameters of the model, and a 2D `numpy.ndarray` with the correspondent models for each table row. There is no single standard of distribution for model files, and such preliminary preprocessing is often necessary. However, for a few popular stellar population models, there are utility classes distributed with `paintbox` that already perform this task and provide production-ready classes. Please check the building_models tutorial and documentation for more details. "
   ]
  }
 ],
 "metadata": {
  "kernelspec": {
   "display_name": "Python 3",
   "language": "python",
   "name": "python3"
  },
  "language_info": {
   "codemirror_mode": {
    "name": "ipython",
    "version": 3
   },
   "file_extension": ".py",
   "mimetype": "text/x-python",
   "name": "python",
   "nbconvert_exporter": "python",
   "pygments_lexer": "ipython3",
   "version": "3.7.0"
  }
 },
 "nbformat": 4,
 "nbformat_minor": 4
}
