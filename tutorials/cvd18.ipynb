{
 "cells": [
  {
   "cell_type": "markdown",
   "metadata": {},
   "source": [
    "### Using CvD stellar population models\n",
    "\n",
    "Models from the [Conroy and van Dokkum (2012)](https://ui.adsabs.harvard.edu/abs/2012ApJ...747...69C/abstract) and [Conroy et al. (2018)](https://ui.adsabs.harvard.edu/abs/2018ApJ...854..139C/abstract), a.k.a. CvD models, can be obtained under request to the authors, and are **not** distributed together with `paintbox`. Similar to the MILES models, CvD are also distributed as SSP models with varying ages, metallicities, and IMFs, but also provide response functions that allow the variation of several individual elements, e.g., C, N, O, Mg, Si, Ca, Ti, and Fe. In this cases, To handle these models, we use the utility class `CvD18`, built from the basic `paintbox` classes, to handle the input files and produce spectra with any combination of parameters."
   ]
  },
  {
   "cell_type": "code",
   "execution_count": 1,
   "metadata": {},
   "outputs": [
    {
     "name": "stderr",
     "output_type": "stream",
     "text": [
      "Processing SSP files: 100%|██████████| 35/35 [01:01<00:00,  1.75s/it]\n",
      "Preparing response functions: 100%|██████████| 25/25 [00:10<00:00,  2.30it/s]\n"
     ]
    }
   ],
   "source": [
    "import os\n",
    "import glob\n",
    "\n",
    "import numpy as np\n",
    "from paintbox.utils import CvD18, disp2vel\n",
    "import matplotlib.pyplot as plt\n",
    "\n",
    "# Defining an arbitrary wavelength region in the near IR\n",
    "w1, w2 = 8000, 13000 # Setting the wavelength window\n",
    "sigma = 300 # Velocity dispersion of the output models\n",
    "wave = disp2vel([w1, w2], sigma)\n",
    "outdir = os.path.join(os.getcwd(), \"CvD18_tutorials\")\n",
    "ssp = CvD18(wave, sigma=sigma, outdir=outdir)"
   ]
  },
  {
   "cell_type": "markdown",
   "metadata": {},
   "source": [
    "Please check out the documentation for the `CvD18` class to set this class to work in your computer using the `libpath` keyword. "
   ]
  },
  {
   "cell_type": "code",
   "execution_count": null,
   "metadata": {},
   "outputs": [],
   "source": []
  }
 ],
 "metadata": {
  "kernelspec": {
   "display_name": "Python 3",
   "language": "python",
   "name": "python3"
  },
  "language_info": {
   "codemirror_mode": {
    "name": "ipython",
    "version": 3
   },
   "file_extension": ".py",
   "mimetype": "text/x-python",
   "name": "python",
   "nbconvert_exporter": "python",
   "pygments_lexer": "ipython3",
   "version": "3.7.0"
  }
 },
 "nbformat": 4,
 "nbformat_minor": 4
}
